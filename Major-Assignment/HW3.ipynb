{
 "cells": [
  {
   "cell_type": "markdown",
   "metadata": {
    "id": "Nr1PHG50Lh9j"
   },
   "source": [
    "# Assignment #3: Movie Dictionary Database\n",
    "\n",
    "In this problem, we aim to load movie data into a dictionary, summarize it by genre, and performing two simple searches.\n",
    "\n",
    "Please read all the details [here](https://docs.google.com/document/d/1DQ8d6D1Q3p3qOBKxN8B4twShe9zkI7-WpPtFjQ3y1p4/edit?usp=sharing)."
   ]
  },
  {
   "cell_type": "markdown",
   "metadata": {
    "id": "gIzwIfBXMScb"
   },
   "source": [
    "# **Important**\n",
    "- Do not delete or modify the first line in the given code cell.\n",
    "- You work must be add in the provided area only.\n",
    "- You must not change the declaration of the provided functions.\n",
    "- You are allowed to add your own functions.\n",
    "- If you want to write your own program to test, add new code cell at the very end of the file and add your code there.\n"
   ]
  },
  {
   "cell_type": "code",
   "execution_count": null,
   "metadata": {
    "id": "Zl0zcTfzkVq3"
   },
   "outputs": [],
   "source": [
    "# uncomment this cell to download the movie database file to colab\n",
    "!wget https://raw.githubusercontent.com/sothornin/file/main/movies_2010_2013.json"
   ]
  },
  {
   "cell_type": "code",
   "execution_count": null,
   "metadata": {
    "id": "s1ha5yAlkh83"
   },
   "outputs": [],
   "source": [
    "# MOVIE_DICTIONARY (*** DO NOT DELETE this line or add line before this ***)\n",
    "# Only add your code in the provided area.\n",
    "# DO NOT delete or modified the given code in main().\n",
    "\n",
    "# Function 1\n",
    "def load_data_to_movie_dict(file_name):\n",
    "    import json\n",
    "    # use json.loads to turn string into dictionary\n",
    "    # return the movies info in dictionary form\n",
    "    mov = {}\n",
    "    f = open(file_name, 'r')\n",
    "    for line in f:\n",
    "        i = json.loads(line)\n",
    "        mov[i['_id']['$oid']] = { 'title': i['title'], 'year': int(i['year']['$numberInt']) }\n",
    "        if 'genres' in i.keys(): mov[i['_id']['$oid']]['genres'] = i['genres']\n",
    "        if 'tomatoes' in i.keys() and 'viewer' in i['tomatoes'] and 'meter' in i['tomatoes']['viewer']:\n",
    "            mov[i['_id']['$oid']]['rating'] = int(i['tomatoes']['viewer']['meter']['$numberInt'])\n",
    "    f.close()\n",
    "    return mov\n",
    "\n",
    "# Function 2\n",
    "def yearly_summary_by_genre(year, movies):\n",
    "    # return the dictionary of genre as the key and summary of length and min max rating as the value\n",
    "    ysbg = {}\n",
    "    for info in movies.values():\n",
    "        if info['year'] == year and 'genres' in info:\n",
    "            for genre in info['genres']:\n",
    "                if genre not in ysbg.keys():\n",
    "                    ysbg[genre] = { 'num': 1 }\n",
    "                else:\n",
    "                    ysbg[genre]['num'] += 1\n",
    "\n",
    "                if 'rating' in info:\n",
    "                    if 'rating' not in ysbg[genre]:\n",
    "                        ysbg[genre]['rating'] = {\n",
    "                            'avg': info['rating'],\n",
    "                            'min': info['rating'],\n",
    "                            'max': info['rating']}\n",
    "                    else:\n",
    "                        ysbg[genre]['rating']['avg'] += info['rating']\n",
    "                        if info['rating'] < ysbg[genre]['rating']['min']:\n",
    "                            ysbg[genre]['rating']['min'] = info['rating']\n",
    "                        if info['rating'] > ysbg[genre]['rating']['max']:\n",
    "                            ysbg[genre]['rating']['max'] = info['rating']\n",
    "\n",
    "    for genre in ysbg: ysbg[genre]['rating']['avg'] = int(round(ysbg[genre]['rating']['avg'] / ysbg[genre]['num']))\n",
    "    return ysbg\n",
    "\n",
    "def search_g(sgenre, movies):\n",
    "    mov_ids = []\n",
    "    for ids, info in movies.items():\n",
    "        if 'genres' in info:\n",
    "            for i in info['genres']:\n",
    "                if i.lower() == sgenre: mov_ids.append(ids)\n",
    "    return mov_ids\n",
    "\n",
    "def search_r(srating, movies):\n",
    "    mov_ids = [ids for ids, info in movies.items() if 'rating' in info and info['rating'] == srating]\n",
    "    return mov_ids\n",
    "\n",
    "def search_y(syear, movies):\n",
    "    mov_ids = [ids for ids, info in movies.items() if info['year'] == syear]\n",
    "    return mov_ids\n",
    "\n",
    "# Function 3\n",
    "def search_movie_keys(query, movies):\n",
    "    # return a list of ids\n",
    "    sgenre, srating, syear = '', 0, 0\n",
    "    mov_ids = []\n",
    "\n",
    "    for k in query:\n",
    "        if k == 'genres': sgenre = query['genres'].lower()\n",
    "        elif k == 'rating': srating = query['rating']\n",
    "        elif k == 'year': syear = query['year']\n",
    "        else: return []\n",
    "\n",
    "    if sgenre != '': g = set(search_g(sgenre, movies))\n",
    "    if srating != 0: r = set(search_r(srating, movies))\n",
    "    if syear != 0: y = set(search_y(syear, movies))\n",
    "\n",
    "    if sgenre != '' and srating != 0 and syear != 0: mov_ids = list(r.intersection(y, g))\n",
    "    elif sgenre == '' and srating == 0 and syear != 0: mov_ids = list(y)\n",
    "    elif sgenre == '' and srating != 0 and syear == 0: mov_ids = list(r)\n",
    "    elif sgenre != '' and srating == 0 and syear == 0: mov_ids = list(g)\n",
    "    elif sgenre != '' and srating != 0 and syear == 0: mov_ids = list(g.intersection(r))\n",
    "    elif sgenre != '' and srating == 0 and syear != 0: mov_ids = list(g.intersection(y))\n",
    "    elif sgenre == '' and srating != 0 and syear != 0: mov_ids = list(r.intersection(y))\n",
    "\n",
    "    temp = sorted([[movies[i]['title'], movies[i]['year']] for i in mov_ids])\n",
    "    mov_ids = [ids for ii in temp for ids, info in movies.items() if info['title'] == ii[0]]\n",
    "    return mov_ids\n",
    "\n",
    "def word_deconstruct(query):\n",
    "    deconstructed_words = [[query]]\n",
    "    words = query.split()\n",
    "    word_count = len(words)\n",
    "\n",
    "    for _ in range(1, len(words) - 1):\n",
    "        temp = []\n",
    "        for end in range(len(words), -1, -1):\n",
    "            for start in range(len(words), -1, -1):\n",
    "                if end - start == word_count - 1:\n",
    "                    temp.append(' '.join(words[start:end]))\n",
    "        word_count -= 1\n",
    "        deconstructed_words.append(temp)\n",
    "\n",
    "    deconstructed_words.append(list(set(words)))\n",
    "    return deconstructed_words\n",
    "\n",
    "# Function 4\n",
    "def search_movie_title(query, movies):\n",
    "    # return a list of ids\n",
    "    query = query.lower()\n",
    "    temp, mov_ids, detected = [], [], []\n",
    "\n",
    "    if len(query.split()) == 1:\n",
    "        for ids, info in movies.items():\n",
    "            c = len(set(query.split()).intersection(set([info['title'].lower().split()])))\n",
    "            if c > 0: temp.append([-c, len(info['title'].split()), info['title'], info['year'], ids])\n",
    "\n",
    "        mov_ids = [ii[4] for ii in sorted(temp)]\n",
    "\n",
    "    else:\n",
    "        for ii in word_deconstruct(query):\n",
    "            for info in movies.values():\n",
    "                for jj in word_deconstruct(info['title'].lower()):\n",
    "                    if len(set(ii).intersection(set(jj))) > 0:\n",
    "                        detected = ii\n",
    "                        break\n",
    "                if detected: break\n",
    "            if detected: break\n",
    "\n",
    "        if detected == []: return []\n",
    "\n",
    "        for ids, info in movies.items():\n",
    "            for words in word_deconstruct(info['title'].lower()):\n",
    "                c = len(set(detected).intersection(set(words)))\n",
    "                if c > 0: temp.append((ids, -c))\n",
    "\n",
    "        temp1 = [[c, len(movies[ids]['title'].split()), movies[ids]['title'], movies[ids]['year'], ids] for ids, c in list(set(temp))]\n",
    "        mov_ids = [ii[4] for ii in sorted(temp1)]\n",
    "\n",
    "    return mov_ids\n",
    "\n",
    "#------------------------------------------------------------#\n",
    "# DO NOT DELETE OR MODIFIED THE CODE BELOW\n",
    "#------------------------------------------------------------#\n",
    "\n",
    "# This function will help you print out the movies' details from list of movie ids\n",
    "def show_movie_info(ids, movies):\n",
    "  for n,i in enumerate(ids):\n",
    "    if 'title' in movies[i]:\n",
    "      print('Title: {}'.format(movies[i]['title']))\n",
    "    if 'year' in movies[i]:\n",
    "      print('Year: {}'.format(movies[i]['year']))\n",
    "    if 'genres' in movies[i]:\n",
    "      print('Genres: {}'.format(', '.join(movies[i]['genres'])))\n",
    "    if 'rating' in movies[i]:\n",
    "      print('Rating: {}'.format(movies[i]['rating']))\n",
    "    if n < len(ids) - 1:\n",
    "      print('=============================================')\n",
    "\n",
    "#------------------------------------------------------------#\n",
    "# *** MAIN PART ****\n",
    "movies = load_data_to_movie_dict('movies_2010_2013.json')"
   ]
  },
  {
   "cell_type": "markdown",
   "metadata": {
    "id": "vE4Vck7AQMcw"
   },
   "source": [
    "# TEST\n",
    "To speed up the testing of your program, some of test cases of some functions are given, but might not cover all possibilies.  You should add more test cases using provided test case as an example.\n",
    "\n",
    "Uncomment the following cell to test if your function can correctly return the expected output.\n",
    "\n",
    "Note: The variable `movies` is the output of the function `load_data_to_movie_dict` function"
   ]
  },
  {
   "cell_type": "markdown",
   "metadata": {
    "id": "1Fdda098QUXy"
   },
   "source": [
    "### Test1:\n",
    "\n",
    "Expected output: `{'title': \"Don't Be Afraid of the Dark\",\n",
    " 'year': 2010,\n",
    " 'genres': ['Fantasy', 'Horror', 'Thriller'],\n",
    " 'rating': 34}`"
   ]
  },
  {
   "cell_type": "code",
   "execution_count": null,
   "metadata": {
    "colab": {
     "base_uri": "https://localhost:8080/"
    },
    "id": "cXoblSjlQN7Z",
    "outputId": "35342f13-d81e-417d-830c-e6a99cff1a69"
   },
   "outputs": [],
   "source": [
    "movies['573a13c2f29313caabd68170']"
   ]
  },
  {
   "cell_type": "markdown",
   "metadata": {
    "id": "IxxcYNGkQfvH"
   },
   "source": [
    "### Test2:\n",
    "\n",
    "Expected output: `{'title': 'Ugly', 'year': 2013, 'genres': ['Crime', 'Drama', 'Mystery']}`"
   ]
  },
  {
   "cell_type": "code",
   "execution_count": null,
   "metadata": {
    "colab": {
     "base_uri": "https://localhost:8080/"
    },
    "id": "81mU-GreQW7O",
    "outputId": "383ee0d1-a245-4dcc-d79d-9dffe21eccc0"
   },
   "outputs": [],
   "source": [
    "movies['573a13e3f29313caabdc006c']"
   ]
  },
  {
   "cell_type": "markdown",
   "metadata": {
    "id": "2eR_bx4hlzPg"
   },
   "source": [
    "### Test3:\n",
    "\n",
    "Expected output: `4234`"
   ]
  },
  {
   "cell_type": "code",
   "execution_count": null,
   "metadata": {
    "colab": {
     "base_uri": "https://localhost:8080/"
    },
    "id": "kTfCHleGl43_",
    "outputId": "d481e941-57fe-4f4b-8bfd-4dcb05734299"
   },
   "outputs": [],
   "source": [
    "len(movies)"
   ]
  },
  {
   "cell_type": "markdown",
   "metadata": {
    "id": "QT0RoF5NmJ5y"
   },
   "source": [
    "### Test4:\n",
    "\n",
    "Expected output: `{'num': 100, 'rating': {'avg': 42, 'min': 21, 'max': 90}}`"
   ]
  },
  {
   "cell_type": "code",
   "execution_count": null,
   "metadata": {
    "colab": {
     "base_uri": "https://localhost:8080/"
    },
    "id": "PwJjHhzbmI5T",
    "outputId": "a8911df7-8de6-4e7e-821e-4d669ff6d3a6"
   },
   "outputs": [],
   "source": [
    "yearly_summary_by_genre(2013,movies)['Adventure']"
   ]
  },
  {
   "cell_type": "markdown",
   "metadata": {
    "id": "j42A7kWqmg8z"
   },
   "source": [
    "### Test5:\n",
    "\n",
    "Expected output: `{'num': 71, 'rating': {'avg': 29, 'min': 10, 'max': 94}}`"
   ]
  },
  {
   "cell_type": "code",
   "execution_count": null,
   "metadata": {
    "colab": {
     "base_uri": "https://localhost:8080/"
    },
    "id": "2a8QTIBrmrWw",
    "outputId": "6267bc7b-d5b5-4266-d8f4-08cb27079033"
   },
   "outputs": [],
   "source": [
    "yearly_summary_by_genre(2010,movies)['Horror']"
   ]
  },
  {
   "cell_type": "markdown",
   "metadata": {
    "id": "7PcMeikSnMGZ"
   },
   "source": [
    "### Test6:\n",
    "\n",
    "Expected output: `['573a13c6f29313caabd736c7', '573a13bcf29313caabd56abe']`"
   ]
  },
  {
   "cell_type": "code",
   "execution_count": null,
   "metadata": {
    "colab": {
     "base_uri": "https://localhost:8080/"
    },
    "id": "KA2793u5nY6Q",
    "outputId": "d79f1f9f-3b14-4c42-a8b9-91421564ae92"
   },
   "outputs": [],
   "source": [
    "search_movie_keys({'genres':'Drama','rating':89,'year':2010},movies)"
   ]
  },
  {
   "cell_type": "markdown",
   "metadata": {
    "id": "TtUIC94XnT2g"
   },
   "source": [
    "### Test7:\n",
    "\n",
    "Expected output: `[]`"
   ]
  },
  {
   "cell_type": "code",
   "execution_count": null,
   "metadata": {
    "colab": {
     "base_uri": "https://localhost:8080/"
    },
    "id": "3RPoYyRfn2kR",
    "outputId": "170c0c24-9b1e-458b-e650-b4c1a7408404"
   },
   "outputs": [],
   "source": [
    "search_movie_keys({'genre':'Drama','rat':89,'year':2010},movies)"
   ]
  },
  {
   "cell_type": "markdown",
   "metadata": {
    "id": "sEC0560Zqfag"
   },
   "source": [
    "### Test8:\n",
    "\n",
    "Expected output: `['573a13c4f29313caabd6cc80']`"
   ]
  },
  {
   "cell_type": "code",
   "execution_count": null,
   "metadata": {
    "colab": {
     "base_uri": "https://localhost:8080/"
    },
    "id": "2bevnwbzqfyE",
    "outputId": "140907ad-2223-4fbb-ece4-15cb5d37ccea"
   },
   "outputs": [],
   "source": [
    "search_movie_keys({'genres':'actioN', 'rating': 90, 'year':2012},movies)"
   ]
  },
  {
   "cell_type": "markdown",
   "metadata": {
    "id": "IFlJum2xn87P"
   },
   "source": [
    "### Test9:\n",
    "\n",
    "Expected output: `['573a13cbf29313caabd80583',\n",
    " '573a13d6f29313caabd9f52b',\n",
    " '573a13daf29313caabdabca6']`"
   ]
  },
  {
   "cell_type": "code",
   "execution_count": null,
   "metadata": {
    "colab": {
     "base_uri": "https://localhost:8080/"
    },
    "id": "yAltcT_CqgcN",
    "outputId": "176af0aa-e632-4a71-a8bc-db77c814a721"
   },
   "outputs": [],
   "source": [
    "movie_ids = search_movie_title('my way',movies)\n",
    "movie_ids"
   ]
  },
  {
   "cell_type": "code",
   "execution_count": null,
   "metadata": {
    "colab": {
     "base_uri": "https://localhost:8080/"
    },
    "id": "j9lPwmJ6vRqN",
    "outputId": "02d230d1-fecd-4ae2-991c-bae629edf55f"
   },
   "outputs": [],
   "source": [
    "show_movie_info(movie_ids, movies)"
   ]
  },
  {
   "cell_type": "markdown",
   "metadata": {
    "id": "dAttoxH_q-gY"
   },
   "source": [
    "### Test10:\n",
    "\n",
    "Expected output: `['573a13bdf29313caabd59b05',\n",
    " '573a13cff29313caabd88ec2',\n",
    " '573a13c7f29313caabd73d01']`"
   ]
  },
  {
   "cell_type": "code",
   "execution_count": null,
   "metadata": {
    "id": "7bqjbnI4q-gZ"
   },
   "outputs": [],
   "source": [
    "movie_ids = search_movie_title('the way and way back',movies)\n",
    "movie_ids"
   ]
  },
  {
   "cell_type": "code",
   "execution_count": null,
   "metadata": {
    "colab": {
     "base_uri": "https://localhost:8080/"
    },
    "id": "PUwUo86_vtHb",
    "outputId": "c65e2c49-5dd5-471b-8186-d1a119c8858c"
   },
   "outputs": [],
   "source": [
    "show_movie_info(movie_ids, movies)"
   ]
  },
  {
   "cell_type": "markdown",
   "metadata": {
    "id": "CjkUfDFK-TS9"
   },
   "source": [
    "### Test11:\n",
    "\n",
    "Expected output: `['573a13d6f29313caabd9fae9', '573a13daf29313caabdacaa5', '573a13d9f29313caabda8a6e', '573a13daf29313caabdab37d']`"
   ]
  },
  {
   "cell_type": "code",
   "execution_count": null,
   "metadata": {
    "colab": {
     "base_uri": "https://localhost:8080/"
    },
    "id": "rQjvNqAO-cMe",
    "outputId": "686f91ba-0b82-4c31-da29-e15298b7f09d"
   },
   "outputs": [],
   "source": [
    "movie_ids = search_movie_title('italy china italy',movies)\n",
    "movie_ids"
   ]
  },
  {
   "cell_type": "code",
   "execution_count": null,
   "metadata": {
    "colab": {
     "base_uri": "https://localhost:8080/"
    },
    "id": "vLTgVWn4-cMf",
    "outputId": "a550b980-4f51-4312-966a-147b36c9d0e6"
   },
   "outputs": [],
   "source": [
    "show_movie_info(movie_ids, movies)"
   ]
  }
 ],
 "metadata": {
  "colab": {
   "provenance": []
  },
  "kernelspec": {
   "display_name": "Python 3 (ipykernel)",
   "language": "python",
   "name": "python3"
  },
  "language_info": {
   "codemirror_mode": {
    "name": "ipython",
    "version": 3
   },
   "file_extension": ".py",
   "mimetype": "text/x-python",
   "name": "python",
   "nbconvert_exporter": "python",
   "pygments_lexer": "ipython3",
   "version": "3.11.5"
  }
 },
 "nbformat": 4,
 "nbformat_minor": 4
}
