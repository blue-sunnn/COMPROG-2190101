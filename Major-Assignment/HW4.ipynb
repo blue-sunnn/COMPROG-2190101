{
 "cells": [
  {
   "cell_type": "markdown",
   "metadata": {
    "id": "xaO6ydwuTSae"
   },
   "source": [
    "# Assignment #4: NumPy + Tuple, Set, Dict\n",
    "\n",
    "\n"
   ]
  },
  {
   "cell_type": "markdown",
   "metadata": {
    "id": "tZly7h79NP4H"
   },
   "source": [
    "### In this assignment, we will practice on NumPy, Tuple, Set, Dict using social network use case.\n",
    "\n",
    "**Please read the explanation in [here](https://drive.google.com/file/d/13h-wDYixvxn2er8zO13z4_hNgcT6S7nt/view?usp=share_link).**"
   ]
  },
  {
   "cell_type": "markdown",
   "metadata": {
    "id": "YAq-m9r53V0E"
   },
   "source": [
    "# **Important**\n",
    "- Do not delete or modify the first line in the given code cell.\n",
    "- You work must be add in the provided area only.\n",
    "- You must not change the declaration of the provided functions.\n",
    "- You are allowed to add your own functions.\n",
    "- If you want to write your own program to test, add new code cell at the very end of the file and add your code there.\n"
   ]
  },
  {
   "cell_type": "code",
   "execution_count": null,
   "metadata": {
    "id": "3-zuAAWzWzyu"
   },
   "outputs": [],
   "source": [
    "import numpy as np"
   ]
  },
  {
   "cell_type": "code",
   "execution_count": null,
   "metadata": {
    "id": "_WCeLTUWcQPT"
   },
   "outputs": [],
   "source": [
    "# DO NOTE DELETE THIS CELL / WRITE YOUR CODE HERE\n",
    "# Function 1\n",
    "\n",
    "def generate_followed_by_dict(infile):\n",
    "    # write your code here\n",
    "    followed_by = {}\n",
    "    f = open(infile)\n",
    "    for line in f:\n",
    "        x = line.strip().split(',')\n",
    "        followed_by[x[0]] = x[1:]\n",
    "    f.close()\n",
    "\n",
    "    return followed_by"
   ]
  },
  {
   "cell_type": "code",
   "execution_count": null,
   "metadata": {
    "id": "i-ag1K690HGa"
   },
   "outputs": [],
   "source": [
    "# DO NOTE DELETE THIS CELL / WRITE YOUR CODE HERE\n",
    "# Function 2\n",
    "\n",
    "def generate_followed_by_matrix(followed_by_dict):\n",
    "    # write your code here\n",
    "    names = list(followed_by_dict.keys())\n",
    "    for e in followed_by_dict.values(): names += e\n",
    "    names = sorted(list(set(names)))\n",
    "\n",
    "    m = np.zeros([len(names), len(names)], int)\n",
    "    for person, follower in followed_by_dict.items():\n",
    "        for ppl in follower:\n",
    "            m[names.index(person), names.index(ppl)] = 1\n",
    "\n",
    "    return m, names"
   ]
  },
  {
   "cell_type": "code",
   "execution_count": null,
   "metadata": {
    "id": "_xds654Yw6Ff"
   },
   "outputs": [],
   "source": [
    "# DO NOTE DELETE THIS CELL / WRITE YOUR CODE HERE\n",
    "# Function 3\n",
    "\n",
    "def generate_degree_matrix(A):\n",
    "    # write your code here\n",
    "    m = np.identity(A.shape[0], int) * np.sum(A, axis = 1)\n",
    "    return m"
   ]
  },
  {
   "cell_type": "code",
   "execution_count": null,
   "metadata": {
    "id": "mZT3meYFZeXa"
   },
   "outputs": [],
   "source": [
    "# DO NOTE DELETE THIS CELL / WRITE YOUR CODE HERE\n",
    "# Function 4\n",
    "\n",
    "def get_top_influencer(M, person_names):\n",
    "    # write your code here\n",
    "    s = np.sum(M, axis = 1)\n",
    "    most = np.max(s)\n",
    "    names = np.array(person_names)\n",
    "    return list(names[s == most])"
   ]
  },
  {
   "cell_type": "code",
   "execution_count": null,
   "metadata": {
    "id": "-eBjntKTjiVn"
   },
   "outputs": [],
   "source": [
    "# DO NOTE DELETE THIS CELL / WRITE YOUR CODE HERE\n",
    "# Function 5\n",
    "\n",
    "def tanimoto_coefficient(a, b):\n",
    "    sa, sb = np.sum(a), np.sum(b)\n",
    "    A, B = a == 1, b == 1\n",
    "    comAB = (A & B) * 1\n",
    "    c = np.sum(comAB)\n",
    "    return round(c / (sa + sb - c), 2)\n",
    "\n",
    "def generate_similarity_matrix_among_influencers(M, person_names):\n",
    "    # write your code here\n",
    "    s = np.sum(M, axis = 1)\n",
    "    r0 = M[s > 0]\n",
    "    out = np.zeros((r0.shape[0], r0.shape[0]), float)\n",
    "    for i in range(r0.shape[0]):\n",
    "        for j in range(r0.shape[0]):\n",
    "            if i != j:\n",
    "                out[i, j] = tanimoto_coefficient(r0[i], r0[j])\n",
    "\n",
    "    names = np.array(person_names)\n",
    "\n",
    "    return out, names[s > 0]"
   ]
  },
  {
   "cell_type": "code",
   "execution_count": null,
   "metadata": {
    "id": "PkjAA2hw-I1i"
   },
   "outputs": [],
   "source": [
    "# DO NOTE DELETE THIS CELL / WRITE YOUR CODE HERE\n",
    "# Function 6\n",
    "\n",
    "def  get_all_pairs_of_most_similar_influencers(S, only_influencers):\n",
    "    # write your code here\n",
    "    m = np.max(S)\n",
    "    if m == 0: return []\n",
    "    out = []\n",
    "    for i in range(len(only_influencers)):\n",
    "        for j in range(len(only_influencers)):\n",
    "            if S[i, j] == m:\n",
    "                if (i, j) not in out and (j, i) not in out:\n",
    "                    out.append((i, j))\n",
    "\n",
    "    return [(only_influencers[ii], only_influencers[jj]) for ii, jj in out]"
   ]
  },
  {
   "cell_type": "markdown",
   "metadata": {
    "id": "NrVMmZ2BcQPV"
   },
   "source": [
    "### --- Testcase 1 --- ###\n",
    "#### You can get infile_1.txt from [here](https://drive.google.com/file/d/1-JO6bfUHy4G_Y1ouAYmap5SgBgZgds87/view?usp=share_link) ####"
   ]
  },
  {
   "cell_type": "code",
   "execution_count": null,
   "metadata": {
    "colab": {
     "base_uri": "https://localhost:8080/"
    },
    "id": "vv2IXt5OcQPV",
    "outputId": "99994c90-8875-4ebd-871b-7cb1cb05838c"
   },
   "outputs": [],
   "source": [
    "# Testcase 1\n",
    "# link to get infile_1.txt\n",
    "followed_by_dict = generate_followed_by_dict(\"infile_1.txt\")\n",
    "print(followed_by_dict)\n",
    "M, person_names = generate_followed_by_matrix(followed_by_dict)\n",
    "print(\"M = \", M)\n",
    "print(\"person_names\", person_names)\n",
    "D = generate_degree_matrix(M)\n",
    "print(\"D = \", D)\n",
    "print(\"top influencers = \", get_top_influencer(M, person_names))\n",
    "S, all_influencers = generate_similarity_matrix_among_influencers(M, person_names)\n",
    "print(\"similarity_matrix = \", S)\n",
    "print(all_influencers)\n",
    "\n",
    "pairs = get_all_pairs_of_most_similar_influencers(S, all_influencers)\n",
    "print(pairs)"
   ]
  },
  {
   "cell_type": "markdown",
   "metadata": {
    "id": "DWYfWOzwcQPV"
   },
   "source": [
    "#### Expected output of Testcase 1 ####"
   ]
  },
  {
   "cell_type": "markdown",
   "metadata": {
    "id": "3PCqqFtCcQPW"
   },
   "source": [
    "{'A': ['E'], 'B': ['A', 'D'], 'C': ['E', 'B'], 'D': ['A', 'E']}\n",
    "M =  [[0 0 0 0 1]\n",
    " [1 0 0 1 0]\n",
    " [0 1 0 0 1]\n",
    " [1 0 0 0 1]\n",
    " [0 0 0 0 0]]\n",
    "person_names ['A', 'B', 'C', 'D', 'E']\n",
    "D =  [[1 0 0 0 0]\n",
    " [0 2 0 0 0]\n",
    " [0 0 2 0 0]\n",
    " [0 0 0 2 0]\n",
    " [0 0 0 0 0]]\n",
    "top influencers =  ['B', 'C', 'D']\n",
    "similarity_matrix =  [[0.   0.   0.5  0.5 ]\n",
    " [0.   0.   0.   0.33]\n",
    " [0.5  0.   0.   0.33]\n",
    " [0.5  0.33 0.33 0.  ]]\n",
    "['A' 'B' 'C' 'D']\n",
    "[('A', 'C'), ('A', 'D')]"
   ]
  },
  {
   "cell_type": "markdown",
   "metadata": {
    "id": "PC9GV2YxcQPW"
   },
   "source": [
    "### --- Testcase 2 --- ###\n",
    "#### You can get infile_2.txt from [here](https://drive.google.com/file/d/1CPhOVlGJTbGTjmXYBSZ7ksnrAbt7YGyP/view?usp=share_link) ####"
   ]
  },
  {
   "cell_type": "code",
   "execution_count": null,
   "metadata": {
    "colab": {
     "base_uri": "https://localhost:8080/"
    },
    "id": "ktXXyyc_cQPW",
    "outputId": "db81ea78-5a1f-4616-af16-20d4a1f303db"
   },
   "outputs": [],
   "source": [
    "# Testcase 2\n",
    "followed_by_dict = generate_followed_by_dict(\"infile_2.txt\")\n",
    "print(followed_by_dict)\n",
    "M, person_names = generate_followed_by_matrix(followed_by_dict)\n",
    "print(\"M = \", M)\n",
    "print(\"person_names\", person_names)\n",
    "D = generate_degree_matrix(M)\n",
    "print(\"D = \", D)\n",
    "print(\"top influencers = \", get_top_influencer(M, person_names))\n",
    "SM, all_influencers = generate_similarity_matrix_among_influencers(M, person_names)\n",
    "print(\"similarity_matrix = \", SM)\n",
    "print(all_influencers)\n",
    "\n",
    "pairs = get_all_pairs_of_most_similar_influencers(SM, all_influencers)\n",
    "print(pairs)"
   ]
  },
  {
   "cell_type": "markdown",
   "metadata": {
    "id": "7xjpDE_GcQPW"
   },
   "source": [
    "#### Expected output of Testcase 2 ####"
   ]
  },
  {
   "cell_type": "markdown",
   "metadata": {
    "id": "DN_KtUIFcQPW"
   },
   "source": [
    "{'A': ['B', 'C', 'D', 'E'], 'Q': ['F', 'H', 'I']}\n",
    "M =  [[0 1 1 1 1 0 0 0 0]\n",
    " [0 0 0 0 0 0 0 0 0]\n",
    " [0 0 0 0 0 0 0 0 0]\n",
    " [0 0 0 0 0 0 0 0 0]\n",
    " [0 0 0 0 0 0 0 0 0]\n",
    " [0 0 0 0 0 0 0 0 0]\n",
    " [0 0 0 0 0 0 0 0 0]\n",
    " [0 0 0 0 0 0 0 0 0]\n",
    " [0 0 0 0 0 1 1 1 0]]\n",
    "person_names ['A', 'B', 'C', 'D', 'E', 'F', 'H', 'I', 'Q']\n",
    "D =  [[4 0 0 0 0 0 0 0 0]\n",
    " [0 0 0 0 0 0 0 0 0]\n",
    " [0 0 0 0 0 0 0 0 0]\n",
    " [0 0 0 0 0 0 0 0 0]\n",
    " [0 0 0 0 0 0 0 0 0]\n",
    " [0 0 0 0 0 0 0 0 0]\n",
    " [0 0 0 0 0 0 0 0 0]\n",
    " [0 0 0 0 0 0 0 0 0]\n",
    " [0 0 0 0 0 0 0 0 3]]\n",
    "top influencers =  ['A']\n",
    "similarity_matrix =  [[0. 0.]\n",
    " [0. 0.]]\n",
    "['A' 'Q']\n",
    "[]"
   ]
  },
  {
   "cell_type": "markdown",
   "metadata": {
    "id": "h-FW-A8ccQPX"
   },
   "source": [
    "### --- Testcase 3 --- ###\n",
    "#### You can get infile_3.txt from [here](https://drive.google.com/file/d/1Xwe48zFV43s7nAkmtEqVWdXoAlTswLkI/view?usp=share_link) ####"
   ]
  },
  {
   "cell_type": "code",
   "execution_count": null,
   "metadata": {
    "colab": {
     "base_uri": "https://localhost:8080/"
    },
    "id": "Au-Bddn5cQPX",
    "outputId": "3847fca7-0fef-4fad-df1f-696d5aa9eef4"
   },
   "outputs": [],
   "source": [
    "# Testcase 3\n",
    "followed_by_dict = generate_followed_by_dict(\"infile_3.txt\")\n",
    "print(followed_by_dict)\n",
    "M, person_names = generate_followed_by_matrix(followed_by_dict)\n",
    "print(\"M = \", M)\n",
    "print(\"person_names\", person_names)\n",
    "D = generate_degree_matrix(M)\n",
    "print(\"D = \", D)\n",
    "print(\"top influencers = \", get_top_influencer(M, person_names))\n",
    "SM, all_influencers = generate_similarity_matrix_among_influencers(M, person_names)\n",
    "print(\"similarity_matrix = \", SM)\n",
    "print(all_influencers)\n",
    "\n",
    "pairs = get_all_pairs_of_most_similar_influencers(SM, all_influencers)\n",
    "print(pairs)"
   ]
  },
  {
   "cell_type": "markdown",
   "metadata": {
    "id": "5WrB16tzcQPX"
   },
   "source": [
    "#### Expected output of Testcase 3 ####"
   ]
  },
  {
   "cell_type": "markdown",
   "metadata": {
    "id": "WZwMuS5ccQPX"
   },
   "source": [
    "{'A': ['B', 'C', 'D', 'E', 'Q'], 'Q': ['F', 'H', 'I', 'A'], 'R': ['B', 'C', 'D', 'E', 'A']}\n",
    "M =  [[0 1 1 1 1 0 0 0 1 0]\n",
    " [0 0 0 0 0 0 0 0 0 0]\n",
    " [0 0 0 0 0 0 0 0 0 0]\n",
    " [0 0 0 0 0 0 0 0 0 0]\n",
    " [0 0 0 0 0 0 0 0 0 0]\n",
    " [0 0 0 0 0 0 0 0 0 0]\n",
    " [0 0 0 0 0 0 0 0 0 0]\n",
    " [0 0 0 0 0 0 0 0 0 0]\n",
    " [1 0 0 0 0 1 1 1 0 0]\n",
    " [1 1 1 1 1 0 0 0 0 0]]\n",
    "person_names ['A', 'B', 'C', 'D', 'E', 'F', 'H', 'I', 'Q', 'R']\n",
    "D =  [[5 0 0 0 0 0 0 0 0 0]\n",
    " [0 0 0 0 0 0 0 0 0 0]\n",
    " [0 0 0 0 0 0 0 0 0 0]\n",
    " [0 0 0 0 0 0 0 0 0 0]\n",
    " [0 0 0 0 0 0 0 0 0 0]\n",
    " [0 0 0 0 0 0 0 0 0 0]\n",
    " [0 0 0 0 0 0 0 0 0 0]\n",
    " [0 0 0 0 0 0 0 0 0 0]\n",
    " [0 0 0 0 0 0 0 0 4 0]\n",
    " [0 0 0 0 0 0 0 0 0 5]]\n",
    "top influencers =  ['A', 'R']\n",
    "similarity_matrix =  [[0.   0.   0.67]\n",
    " [0.   0.   0.12]\n",
    " [0.67 0.12 0.  ]]\n",
    "['A' 'Q' 'R']\n",
    "[('A', 'R')]"
   ]
  },
  {
   "cell_type": "markdown",
   "metadata": {
    "id": "p1hbR6VAcQPX"
   },
   "source": [
    "### --- Testcase 4 --- ###\n",
    "#### You can get infile_4.txt from [here](https://drive.google.com/file/d/1OZZO5Muq0iviRSPwEWIfvWm_G3c4ktf4/view?usp=share_link) ####"
   ]
  },
  {
   "cell_type": "code",
   "execution_count": null,
   "metadata": {
    "colab": {
     "base_uri": "https://localhost:8080/"
    },
    "id": "WPvV4eCTcQPX",
    "outputId": "902e67f2-9162-4dee-8c36-4bcf438bbec3"
   },
   "outputs": [],
   "source": [
    "# Testcase 4\n",
    "followed_by_dict = generate_followed_by_dict(\"infile_4.txt\")\n",
    "print(followed_by_dict)\n",
    "M, person_names = generate_followed_by_matrix(followed_by_dict)\n",
    "print(\"M = \", M)\n",
    "print(\"person_names\", person_names)\n",
    "D = generate_degree_matrix(M)\n",
    "print(\"D = \", D)\n",
    "print(\"top influencers = \", get_top_influencer(M, person_names))\n",
    "SM, all_influencers = generate_similarity_matrix_among_influencers(M, person_names)\n",
    "print(\"similarity_matrix = \", SM)\n",
    "print(all_influencers)\n",
    "\n",
    "pairs = get_all_pairs_of_most_similar_influencers(SM, all_influencers)\n",
    "print(pairs)"
   ]
  },
  {
   "cell_type": "markdown",
   "metadata": {
    "id": "CIRON2facQPX"
   },
   "source": [
    "#### Expected output of Testcase 4 ####"
   ]
  },
  {
   "cell_type": "markdown",
   "metadata": {
    "id": "3g1FcWkacQPY"
   },
   "source": [
    "{'A': ['B', 'C', 'D', 'E', 'Q', 'P'], 'B': ['A', 'C', 'D', 'E'], 'C': ['D', 'E'], 'D': ['A', 'B', 'C', 'E'], 'E': ['A', 'B', 'C', 'D']}\n",
    "M =  [[0 1 1 1 1 1 1]\n",
    " [1 0 1 1 1 0 0]\n",
    " [0 0 0 1 1 0 0]\n",
    " [1 1 1 0 1 0 0]\n",
    " [1 1 1 1 0 0 0]\n",
    " [0 0 0 0 0 0 0]\n",
    " [0 0 0 0 0 0 0]]\n",
    "person_names ['A', 'B', 'C', 'D', 'E', 'P', 'Q']\n",
    "D =  [[6 0 0 0 0 0 0]\n",
    " [0 4 0 0 0 0 0]\n",
    " [0 0 2 0 0 0 0]\n",
    " [0 0 0 4 0 0 0]\n",
    " [0 0 0 0 4 0 0]\n",
    " [0 0 0 0 0 0 0]\n",
    " [0 0 0 0 0 0 0]]\n",
    "top influencers =  ['A']\n",
    "similarity_matrix =  [[0.   0.43 0.33 0.43 0.43]\n",
    " [0.43 0.   0.5  0.6  0.6 ]\n",
    " [0.33 0.5  0.   0.2  0.2 ]\n",
    " [0.43 0.6  0.2  0.   0.6 ]\n",
    " [0.43 0.6  0.2  0.6  0.  ]]\n",
    "['A' 'B' 'C' 'D' 'E']\n",
    "[('B', 'D'), ('B', 'E'), ('D', 'E')]"
   ]
  },
  {
   "cell_type": "markdown",
   "metadata": {
    "id": "Y-Q7NQmZcQPY"
   },
   "source": [
    "### --- Testcase 5 --- ###\n",
    "#### You can get infile_5.txt from [here](https://drive.google.com/file/d/1DsHlLf3s5YEem4jNeQM_XMbefce67kfA/view?usp=share_link) ####"
   ]
  },
  {
   "cell_type": "code",
   "execution_count": null,
   "metadata": {
    "colab": {
     "base_uri": "https://localhost:8080/"
    },
    "id": "CzHHkKpfcQPY",
    "outputId": "957ba9af-c9a8-4dbd-9c41-04bd658d1598"
   },
   "outputs": [],
   "source": [
    "# Testcase 5\n",
    "followed_by_dict = generate_followed_by_dict(\"infile_5.txt\")\n",
    "print(followed_by_dict)\n",
    "M, person_names = generate_followed_by_matrix(followed_by_dict)\n",
    "print(\"M = \", M)\n",
    "print(\"person_names\", person_names)\n",
    "D = generate_degree_matrix(M)\n",
    "print(\"D = \", D)\n",
    "print(\"top influencers = \", get_top_influencer(M, person_names))\n",
    "SM, all_influencers = generate_similarity_matrix_among_influencers(M, person_names)\n",
    "print(\"similarity_matrix = \", SM)\n",
    "print(all_influencers)\n",
    "\n",
    "pairs = get_all_pairs_of_most_similar_influencers(SM, all_influencers)\n",
    "print(pairs)"
   ]
  },
  {
   "cell_type": "markdown",
   "metadata": {
    "id": "rfUsXAPecQPY"
   },
   "source": [
    "#### Expected output of Testcase 5 ####"
   ]
  },
  {
   "cell_type": "markdown",
   "metadata": {
    "id": "N_e_9a94cQPY"
   },
   "source": [
    "{'A': ['Q'], 'Q': ['A']}\n",
    "M =  [[0 1]\n",
    " [1 0]]\n",
    "person_names ['A', 'Q']\n",
    "D =  [[1 0]\n",
    " [0 1]]\n",
    "top influencers =  ['A', 'Q']\n",
    "similarity_matrix =  [[0. 0.]\n",
    " [0. 0.]]\n",
    "['A' 'Q']\n",
    "[]"
   ]
  }
 ],
 "metadata": {
  "colab": {
   "provenance": []
  },
  "kernelspec": {
   "display_name": "Python 3 (ipykernel)",
   "language": "python",
   "name": "python3"
  },
  "language_info": {
   "codemirror_mode": {
    "name": "ipython",
    "version": 3
   },
   "file_extension": ".py",
   "mimetype": "text/x-python",
   "name": "python",
   "nbconvert_exporter": "python",
   "pygments_lexer": "ipython3",
   "version": "3.11.5"
  }
 },
 "nbformat": 4,
 "nbformat_minor": 4
}
